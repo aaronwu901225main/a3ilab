{
 "cells": [
  {
   "cell_type": "code",
   "execution_count": 4,
   "id": "0148edee",
   "metadata": {},
   "outputs": [
    {
     "name": "stdout",
     "output_type": "stream",
     "text": [
      "kill -9 kernel 51kernel 51kernelkernel 51\n"
     ]
    },
    {
     "name": "stderr",
     "output_type": "stream",
     "text": [
      "                     USER        PID ACCESS COMMAND\n",
      "/dev/nvidia-uvm:     root      mount /dev/nvidia-uvm\n",
      "                     root      F.... tensorboard\n",
      "/dev/nvidia-uvm-tools:\n",
      "                     root      mount /dev/nvidia-uvm-tools\n",
      "/dev/nvidia0:        root      mount /dev/nvidia0\n",
      "                     root      F...m tensorboard\n",
      "/dev/nvidiactl:      root      mount /dev/nvidiactl\n",
      "                     root      F.... tensorboard\n"
     ]
    },
    {
     "data": {
      "text/plain": [
       "<os._wrap_close at 0x7f33f47620d0>"
      ]
     },
     "execution_count": 4,
     "metadata": {},
     "output_type": "execute_result"
    },
    {
     "name": "stderr",
     "output_type": "stream",
     "text": [
      "/bin/dash: 1: kill: Illegal number: kernel\n"
     ]
    }
   ],
   "source": [
    "import os\n",
    "pid = list(set(os.popen('fuser -v /dev/nvidia*').read().split()))\n",
    "kill_cmd = 'kill -9 ' + ' '.join(pid)\n",
    "print(kill_cmd)\n",
    "os.popen(kill_cmd)"
   ]
  },
  {
   "cell_type": "code",
   "execution_count": null,
   "id": "977c254c",
   "metadata": {},
   "outputs": [],
   "source": []
  }
 ],
 "metadata": {
  "kernelspec": {
   "display_name": "Python 3 (ipykernel)",
   "language": "python",
   "name": "python3"
  },
  "language_info": {
   "codemirror_mode": {
    "name": "ipython",
    "version": 3
   },
   "file_extension": ".py",
   "mimetype": "text/x-python",
   "name": "python",
   "nbconvert_exporter": "python",
   "pygments_lexer": "ipython3",
   "version": "3.8.10"
  }
 },
 "nbformat": 4,
 "nbformat_minor": 5
}
