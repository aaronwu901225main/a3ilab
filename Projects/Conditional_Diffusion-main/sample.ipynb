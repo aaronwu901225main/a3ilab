{
 "cells": [
  {
   "cell_type": "code",
   "execution_count": 1,
   "id": "9f324b36",
   "metadata": {},
   "outputs": [],
   "source": [
    "import argparse\n",
    "import torch\n",
    "from utils import get_model, LoadEncoder\n",
    "from models.engine import DDIMSampler, DDIMSamplerEncoder\n",
    "from torchvision.utils import save_image, make_grid\n",
    "from collections import OrderedDict\n",
    "from PIL import Image\n",
    "import numpy as np\n",
    "import torchvision.transforms as transforms\n",
    "import os"
   ]
  },
  {
   "cell_type": "code",
   "execution_count": 40,
   "id": "641bdb9f",
   "metadata": {},
   "outputs": [],
   "source": [
    "class Args(argparse.Namespace):\n",
    "    arch = \"unet\"\n",
    "    img_size=64\n",
    "    num_timestep = 1000\n",
    "    beta = (0.0001, 0.02)\n",
    "    num_condition = [4, 2]\n",
    "    emb_size = 128\n",
    "    channel_mult = [1, 2, 2, 2]\n",
    "    num_res_blocks = 2\n",
    "    use_spatial_transformer = True\n",
    "    num_heads = 4\n",
    "    num_sample_missing = 1000\n",
    "    num_sample = 10\n",
    "    w = 1.8\n",
    "    projection_dim=512\n",
    "    only_table = False\n",
    "    concat = False\n",
    "    only_encoder = False\n",
    "    num_head_channels = -1\n",
    "    encoder_path = None\n",
    "    compose = False\n",
    "    dataset = \"CelebA\"\n",
    "    exp = \"GFemaleAddCop\"\n",
    "    compose = True\n",
    "\n",
    "device = torch.device(\"cuda\" if torch.cuda.is_available() else \"cpu\")\n",
    "args = Args()"
   ]
  },
  {
   "cell_type": "code",
   "execution_count": 41,
   "id": "d2999523",
   "metadata": {},
   "outputs": [
    {
     "name": "stdout",
     "output_type": "stream",
     "text": [
      "All keys successfully match\n"
     ]
    }
   ],
   "source": [
    "model = get_model(args)\n",
    "\n",
    "ckpt = torch.load(os.path.join(\"checkpoints\", args.dataset, args.exp, \"model_100.pth\"))[\"model\"]\n",
    "new_dict = OrderedDict()\n",
    "    \n",
    "for k, v in ckpt.items():\n",
    "    if k.startswith(\"module\"):\n",
    "        new_dict[k[7:]] = v\n",
    "    else:\n",
    "        new_dict[k] = v\n",
    "try:\n",
    "    model.load_state_dict(new_dict)\n",
    "    print(\"All keys successfully match\")\n",
    "except:\n",
    "    print(\"some keys are missing!\")\n",
    "\n",
    "for p in model.parameters():\n",
    "    p.requires_grad = False\n",
    "\n",
    "model.eval()\n",
    "model.to(device)\n",
    "\n",
    "sampler = DDIMSampler(\n",
    "    model=model,\n",
    "    beta =args.beta,\n",
    "    T=args.num_timestep,\n",
    "    w=args.w,\n",
    ").to(device)\n",
    "\n",
    "if args.encoder_path != None:\n",
    "    encoder = LoadEncoder(args).to(device)\n",
    "    sampler = DDIMSamplerEncoder(\n",
    "            model = model,\n",
    "            encoder = encoder,\n",
    "            beta = args.beta,\n",
    "            T = args.num_timestep,\n",
    "            w = args.w,\n",
    "            only_encoder = args.only_encoder\n",
    "    ).to(device)"
   ]
  },
  {
   "cell_type": "code",
   "execution_count": 42,
   "id": "d6cb71d0",
   "metadata": {},
   "outputs": [
    {
     "name": "stderr",
     "output_type": "stream",
     "text": [
      "100%|\u001b[38;2;101;101;181m██████████\u001b[0m| 100/100 [01:04<00:00,  1.56it/s, step=1, sample=1]\n",
      "100%|\u001b[38;2;101;101;181m██████████\u001b[0m| 100/100 [01:04<00:00,  1.54it/s, step=1, sample=1]\n",
      "100%|\u001b[38;2;101;101;181m██████████\u001b[0m| 100/100 [01:05<00:00,  1.53it/s, step=1, sample=1]\n",
      "100%|\u001b[38;2;101;101;181m██████████\u001b[0m| 100/100 [01:05<00:00,  1.54it/s, step=1, sample=1]\n",
      "100%|\u001b[38;2;101;101;181m██████████\u001b[0m| 100/100 [01:04<00:00,  1.54it/s, step=1, sample=1]\n",
      "100%|\u001b[38;2;101;101;181m██████████\u001b[0m| 100/100 [01:05<00:00,  1.54it/s, step=1, sample=1]\n",
      "100%|\u001b[38;2;101;101;181m██████████\u001b[0m| 100/100 [01:05<00:00,  1.53it/s, step=1, sample=1]\n",
      "100%|\u001b[38;2;101;101;181m██████████\u001b[0m| 100/100 [01:05<00:00,  1.53it/s, step=1, sample=1]\n",
      "100%|\u001b[38;2;101;101;181m██████████\u001b[0m| 100/100 [01:05<00:00,  1.53it/s, step=1, sample=1]\n",
      "100%|\u001b[38;2;101;101;181m██████████\u001b[0m| 100/100 [01:05<00:00,  1.53it/s, step=1, sample=1]\n"
     ]
    }
   ],
   "source": [
    "from config import Zappo50K, toy_dataset, CelebA\n",
    "\n",
    "if args.dataset == \"Zappo50K\":\n",
    "    CFG = Zappo50K()\n",
    "elif args.dataset == \"CelebA\":\n",
    "    CFG = CelebA()\n",
    "else:\n",
    "    CFG = toy_dataset()\n",
    "# CFG = Zappo50K()\n",
    "# missing = \"Heel Slipper\"\n",
    "# targets = [\"Flat Boot\", \"Flat Shoe\", \"Flat Slipper\", \"Flat Sandal\", \"Heel Boot\", \"Heel Shoe\", \"Heel Sandal\"]\n",
    "missing = \"Gray_Hair Female\"\n",
    "targets = [\"Brown_Hair Male\", \"Black_Hair Male\", \"Gray_Hair Male\", \"Blond_Hair Male\", \"Brown_Hair Female\", \"Black_Hair Female\", \"Blond_Hair Female\"]\n",
    "\n",
    "\n",
    "atr, obj = CFG.ATR2IDX[missing.split(\" \")[0]], CFG.OBJ2IDX[missing.split(\" \")[-1]]\n",
    "sample_batch = 100\n",
    "atr = torch.tensor(atr, dtype=torch.long, device=device).repeat(sample_batch)\n",
    "obj = torch.tensor(obj, dtype=torch.long, device=device).repeat(sample_batch)\n",
    "for j in range(args.num_sample_missing // sample_batch):\n",
    "    x_i = torch.randn(sample_batch, 3, 64, 64).to(device)\n",
    "    x0 = sampler(x_i, atr, obj, steps=100)\n",
    "    x0 = x0 * 0.5 + 0.5\n",
    "    i = j * sample_batch\n",
    "    os.makedirs(os.path.join(\"SampledImg\", args.dataset, args.exp), exist_ok=True)\n",
    "    for x in x0:\n",
    "        save_image(x, os.path.join(\"SampledImg\", args.dataset, args.exp, \"{:05d}.jpg\".format(i)))\n",
    "        i += 1\n",
    "# save_image(x0, \"SampledImg/DualCond/GrayFemaleAdaGN.png\", nrow=10, noramlized=True)\n",
    "\n",
    "# images = []\n",
    "# for target in targets:\n",
    "#     atr, obj = CFG.ATR2IDX[target.split(\" \")[0]], CFG.OBJ2IDX[target.split(\" \")[-1]]\n",
    "#     atr = torch.tensor(atr, dtype=torch.long, device=device).repeat(args.num_sample)\n",
    "#     obj = torch.tensor(obj, dtype=torch.long, device=device).repeat(args.num_sample)\n",
    "\n",
    "#     x_i = torch.randn(args.num_sample, 3, 64, 64).to(device)\n",
    "#     x0 = sampler(x_i, atr, obj, steps=100)\n",
    "#     x0 = x0 * 0.5 + 0.5\n",
    "#     images.append(x0)\n",
    "# images = torch.concatenate(images, dim=0)\n",
    "# save_image(images, \"SampledImg/DualCond/SeenAdaGN.png\", nrow=args.num_sample, normalized=True)"
   ]
  },
  {
   "cell_type": "code",
   "execution_count": 12,
   "id": "6a71363a",
   "metadata": {},
   "outputs": [],
   "source": [
    "def _image_grid(imgs, rows, cols):\n",
    "        \"\"\"\n",
    "        input -\n",
    "        1. imgs - np array dims num_images x **(image_dims)\n",
    "        2. rows, cols - number of rows and columns in the image grid\n",
    "        output - \n",
    "        1. saved image grid on the disk at the end when all the images are pasted after multiple iterations\n",
    "        \"\"\"\n",
    "        n,c,w,h = imgs.shape\n",
    "\n",
    "        grid = Image.new('RGB', size=(cols*w, rows*h))\n",
    "        \n",
    "        if isinstance(imgs, torch.Tensor):\n",
    "            imgs = imgs.cpu().numpy()\n",
    "\n",
    "        grid_w, grid_h = grid.size\n",
    "        for idx in range(n):\n",
    "            img = imgs[idx,:].squeeze()\n",
    "            img = Image.fromarray(img)\n",
    "            if img.mode != 'RGB':\n",
    "                img = img.convert('RGB')\n",
    "            grid.paste(img, box=(idx*w, 0))\n",
    "        return grid"
   ]
  },
  {
   "cell_type": "code",
   "execution_count": 24,
   "id": "4e6facf8",
   "metadata": {},
   "outputs": [
    {
     "data": {
      "text/plain": [
       "3"
      ]
     },
     "execution_count": 24,
     "metadata": {},
     "output_type": "execute_result"
    }
   ],
   "source": [
    "imgs = images.cpu().numpy()\n",
    "img = imgs[0, :].squeeze()\n",
    "# img = Image.fromarray((img * 255).astype(np.uint8))"
   ]
  },
  {
   "cell_type": "code",
   "execution_count": 14,
   "id": "ee9f8666",
   "metadata": {},
   "outputs": [
    {
     "name": "stdout",
     "output_type": "stream",
     "text": [
      "0001\n"
     ]
    }
   ],
   "source": [
    "print(\"{:04d}\".format(1))"
   ]
  },
  {
   "cell_type": "code",
   "execution_count": 59,
   "id": "bf09dcf1",
   "metadata": {},
   "outputs": [
    {
     "name": "stdout",
     "output_type": "stream",
     "text": [
      "Gray_Hair Female 1011\n",
      "Black_Hair Female 18652\n",
      "Brown_Hair Male 10230\n",
      "Blond_Hair Male 1399\n",
      "Blond_Hair Female 22587\n",
      "Gray_Hair Male 5788\n",
      "Black_Hair Male 20124\n",
      "Brown_Hair Female 23027\n"
     ]
    }
   ],
   "source": [
    "from glob import glob\n",
    "import os\n",
    "import random\n",
    "import shutil\n",
    "\n",
    "data_root = \"data/CelebA\"\n",
    "train_root = \"data/CelebA_train\"\n",
    "val_root = \"data/CelebA_val\"\n",
    "os.makedirs(train_root, exist_ok=True)\n",
    "os.makedirs(val_root, exist_ok=True)\n",
    "\n",
    "for target in os.listdir(data_root):\n",
    "    os.makedirs(os.path.join(train_root, target), exist_ok=True)\n",
    "    images = glob(os.path.join(data_root, target, \"*.jpg\"))\n",
    "    train_imgs = random.sample(images, int(0.8 * len(images)))\n",
    "    for img in train_imgs:\n",
    "        name = img.split(\"/\")[-1]\n",
    "        shutil.move(img, os.path.join(train_root, target, name))\n",
    "    print(target, len(train_imgs))\n"
   ]
  },
  {
   "cell_type": "code",
   "execution_count": 60,
   "id": "86b72c78",
   "metadata": {},
   "outputs": [
    {
     "name": "stdout",
     "output_type": "stream",
     "text": [
      "Gray_Hair Female 253\n",
      "Black_Hair Female 4664\n",
      "Brown_Hair Male 2558\n",
      "Blond_Hair Male 350\n",
      "Blond_Hair Female 5647\n",
      "Gray_Hair Male 1447\n",
      "Black_Hair Male 5032\n",
      "Brown_Hair Female 5757\n"
     ]
    }
   ],
   "source": [
    "for target in os.listdir(data_root):\n",
    "    os.makedirs(os.path.join(val_root, target), exist_ok=True)\n",
    "    images = glob(os.path.join(data_root, target, \"*.jpg\"))\n",
    "    for img in images:\n",
    "        name = img.split(\"/\")[-1]\n",
    "        shutil.move(img, os.path.join(val_root, target, name))\n",
    "    print(target, len(images))"
   ]
  },
  {
   "cell_type": "code",
   "execution_count": null,
   "id": "bccd1212",
   "metadata": {},
   "outputs": [],
   "source": []
  }
 ],
 "metadata": {
  "kernelspec": {
   "display_name": "Conditional_Diffusion",
   "language": "python",
   "name": "conditional_diffusion"
  },
  "language_info": {
   "codemirror_mode": {
    "name": "ipython",
    "version": 3
   },
   "file_extension": ".py",
   "mimetype": "text/x-python",
   "name": "python",
   "nbconvert_exporter": "python",
   "pygments_lexer": "ipython3",
   "version": "3.8.10"
  }
 },
 "nbformat": 4,
 "nbformat_minor": 5
}
