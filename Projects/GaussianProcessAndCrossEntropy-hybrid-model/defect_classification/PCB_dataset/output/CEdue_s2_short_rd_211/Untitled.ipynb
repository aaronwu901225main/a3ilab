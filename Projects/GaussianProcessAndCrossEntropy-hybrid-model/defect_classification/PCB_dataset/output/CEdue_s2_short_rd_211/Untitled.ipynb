{
 "cells": [
  {
   "cell_type": "code",
   "execution_count": 3,
   "id": "4d33c564-d292-4e8a-9061-fa5eab817e8d",
   "metadata": {},
   "outputs": [],
   "source": [
    "from sympy import * \n",
    "# from sympy.abc import x"
   ]
  },
  {
   "cell_type": "code",
   "execution_count": 8,
   "id": "818096ee-e826-4aa3-b07b-b1e36184bdf6",
   "metadata": {},
   "outputs": [
    {
     "data": {
      "text/latex": [
       "$\\displaystyle y{\\left(x \\right)} = C_{1} e^{- 2 x} + \\frac{x}{2} - \\frac{1}{4}$"
      ],
      "text/plain": [
       "Eq(y(x), C1*exp(-2*x) + x/2 - 1/4)"
      ]
     },
     "execution_count": 8,
     "metadata": {},
     "output_type": "execute_result"
    }
   ],
   "source": [
    "x = symbols('x')\n",
    "\n",
    "y = Function('y')\n",
    "\n",
    "dsolve(Eq(Derivative(y(x), x) + 2*y(x) - x, 0), y(x))"
   ]
  },
  {
   "cell_type": "code",
   "execution_count": 10,
   "id": "ec679057-e442-467b-a713-acbd48a43641",
   "metadata": {},
   "outputs": [
    {
     "data": {
      "text/latex": [
       "$\\displaystyle y{\\left(x \\right)} = C_{1} e^{2 x} + 4 x^{2} + 4 x + 2$"
      ],
      "text/plain": [
       "Eq(y(x), C1*exp(2*x) + 4*x**2 + 4*x + 2)"
      ]
     },
     "execution_count": 10,
     "metadata": {},
     "output_type": "execute_result"
    }
   ],
   "source": [
    "dsolve(Eq(y(x).diff(x) - 2*y(x) , -8*(x**2)), y(x))"
   ]
  },
  {
   "cell_type": "code",
   "execution_count": null,
   "id": "f72aae38-93f2-4b15-87d7-ef4a43a00087",
   "metadata": {},
   "outputs": [],
   "source": []
  }
 ],
 "metadata": {
  "kernelspec": {
   "display_name": "Python 3 (ipykernel)",
   "language": "python",
   "name": "python3"
  },
  "language_info": {
   "codemirror_mode": {
    "name": "ipython",
    "version": 3
   },
   "file_extension": ".py",
   "mimetype": "text/x-python",
   "name": "python",
   "nbconvert_exporter": "python",
   "pygments_lexer": "ipython3",
   "version": "3.10.6"
  }
 },
 "nbformat": 4,
 "nbformat_minor": 5
}
